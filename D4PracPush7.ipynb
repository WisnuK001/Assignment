{
 "cells": [
  {
   "cell_type": "code",
   "execution_count": 1,
   "metadata": {},
   "outputs": [],
   "source": [
    "# assert isValidDate(2001, 2, 29) == False\n",
    "# assert isValidDate(2029, 13, 1) == False\n",
    "# assert isValidDate(1000000, 1, 1) == True\n",
    "# assert isValidDate(2015, 4, 31) == False\n",
    "\n",
    "def cektanggal(tahun, bulan, hari):\n",
    "    if tahun < 1 or 1 < bulan > 12 or hari < 1 :\n",
    "        return False\n",
    "    if bulan == 2:\n",
    "        if (tahun % 4 == 0 and tahun % 100 != 0) or (tahun % 400 == 0):\n",
    "            return hari <= 29\n",
    "        else :\n",
    "            return hari <= 28\n",
    "    elif bulan in [4, 6, 9, 11]:\n",
    "        return hari <= 30\n",
    "    else:\n",
    "        return hari <= 31\n",
    "    \n",
    "\n",
    "cektanggal(2023, 2, 30)\n",
    "\n",
    "assert cektanggal(2001, 2, 29) == False\n",
    "assert cektanggal(2029, 13, 1) == False\n",
    "assert cektanggal(1000000, 1, 1) == True\n",
    "assert cektanggal(2015, 4, 31) == False"
   ]
  }
 ],
 "metadata": {
  "kernelspec": {
   "display_name": "base",
   "language": "python",
   "name": "python3"
  },
  "language_info": {
   "codemirror_mode": {
    "name": "ipython",
    "version": 3
   },
   "file_extension": ".py",
   "mimetype": "text/x-python",
   "name": "python",
   "nbconvert_exporter": "python",
   "pygments_lexer": "ipython3",
   "version": "3.11.4"
  },
  "orig_nbformat": 4
 },
 "nbformat": 4,
 "nbformat_minor": 2
}
