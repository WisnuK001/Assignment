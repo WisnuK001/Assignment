{
 "cells": [
  {
   "cell_type": "code",
   "execution_count": 1,
   "metadata": {},
   "outputs": [],
   "source": [
    "# assert commaFormat(1) == '1'\n",
    "# assert commaFormat(10) == '10'\n",
    "# assert commaFormat(100) == '100'\n",
    "# assert commaFormat(1000) == '1,000'\n",
    "# assert commaFormat(10000) == '10,000'\n",
    "# assert commaFormat(100000) == '100,000'\n",
    "# assert commaFormat(1000000) == '1,000,000'\n",
    "# assert commaFormat(1234567890) == '1,234,567,890'\n",
    "# assert commaFormat(1000.123456) == '1,000.123456'\n",
    "\n",
    "def berikoma(angka):\n",
    "    if isinstance(angka, float):\n",
    "        good = '{:.6f}'.format(angka)\n",
    "    else:\n",
    "        good = str(int(angka))\n",
    "    \n",
    "    bagian= good.split('.')\n",
    "    bagianinterger= bagian[0]\n",
    "\n",
    "    bagianinterger= '{:,}'.format(int(bagianinterger))\n",
    "\n",
    "    if len(bagian) == 2:\n",
    "        good= bagianinterger + '.' + bagian[1]\n",
    "    else:\n",
    "        good= bagianinterger\n",
    "\n",
    "    return good\n",
    "    \n",
    "# hasil = berikoma(1000.123456)\n",
    "# print(hasil)\n",
    "\n",
    "\n",
    "assert berikoma(1) == '1'\n",
    "assert berikoma(10) == '10'\n",
    "assert berikoma(100) == '100'\n",
    "assert berikoma(1000) == '1,000'\n",
    "assert berikoma(10000) == '10,000'\n",
    "assert berikoma(100000) == '100,000'\n",
    "assert berikoma(1000000) == '1,000,000'\n",
    "assert berikoma(1234567890) == '1,234,567,890'\n",
    "assert berikoma(1000.123456) == '1,000.123456'"
   ]
  }
 ],
 "metadata": {
  "kernelspec": {
   "display_name": "base",
   "language": "python",
   "name": "python3"
  },
  "language_info": {
   "codemirror_mode": {
    "name": "ipython",
    "version": 3
   },
   "file_extension": ".py",
   "mimetype": "text/x-python",
   "name": "python",
   "nbconvert_exporter": "python",
   "pygments_lexer": "ipython3",
   "version": "3.11.4"
  },
  "orig_nbformat": 4
 },
 "nbformat": 4,
 "nbformat_minor": 2
}
