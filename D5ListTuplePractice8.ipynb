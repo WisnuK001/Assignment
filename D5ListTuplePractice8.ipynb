{
 "cells": [
  {
   "cell_type": "code",
   "execution_count": 16,
   "metadata": {},
   "outputs": [
    {
     "name": "stdout",
     "output_type": "stream",
     "text": [
      "[[-2, 0, 2], [-1, -1, 2], [-1, 0, 1]]\n"
     ]
    }
   ],
   "source": [
    "# # input\n",
    "# num = [-1, 0, 1, -2, -1, 2, -4]\n",
    "# sumList(num)\n",
    "\n",
    "# # output \n",
    "# [-2, 0, 2], [-1, -1, 2], [-1, 0, 1]\n",
    "\n",
    "num = [-1, 0, 1, -2, -1, 2, -4]\n",
    "\n",
    "def urutkan (n):\n",
    "    for i in range(len(n)-1):\n",
    "        for j in range(i, len(n)):\n",
    "            if n[i] > n[j] :\n",
    "                n[i], n[j]= n[j], n[i]\n",
    "    return n\n",
    "    \n",
    "urutin = urutkan(num)\n",
    "# print(urutin)\n",
    "\n",
    "def sumlist(n):\n",
    "    urutin = urutkan(n)\n",
    "    hasil = []\n",
    "\n",
    "    for i in range(len(urutin)):\n",
    "        if i > 0 and urutin[i] == urutin[i-1]:\n",
    "            continue\n",
    "\n",
    "        left, right = i + 1 , len(urutin)-1\n",
    "        while left < right:\n",
    "            total = num [i] + urutin[left] + num[right]\n",
    "\n",
    "            if total == 0:\n",
    "                hasil.append([urutin[i], urutin[left], urutin[right]])\n",
    "                while left < right and urutin[left] == urutin[left + 1]:\n",
    "                    left += 1\n",
    "                while left < right and urutin[right] == urutin[right - 1]: \n",
    "                    right-= 1\n",
    "                left += 1\n",
    "                right -= 1\n",
    "            elif total < 0 :\n",
    "                left += 1\n",
    "            else:\n",
    "                right -= 1\n",
    "\n",
    "    seen = set()\n",
    "    unik_result = []\n",
    "    for AAA in hasil:\n",
    "        hasiltriple = tuple(AAA)\n",
    "        if hasiltriple not in seen:\n",
    "            seen.add(hasiltriple)\n",
    "            unik_result.append(list(hasiltriple))\n",
    "    return unik_result\n",
    "\n",
    "num = [-1, 0, 1, -2, -1, 2, -4]\n",
    "print(sumlist(num))\n"
   ]
  }
 ],
 "metadata": {
  "kernelspec": {
   "display_name": "base",
   "language": "python",
   "name": "python3"
  },
  "language_info": {
   "codemirror_mode": {
    "name": "ipython",
    "version": 3
   },
   "file_extension": ".py",
   "mimetype": "text/x-python",
   "name": "python",
   "nbconvert_exporter": "python",
   "pygments_lexer": "ipython3",
   "version": "3.11.4"
  },
  "orig_nbformat": 4
 },
 "nbformat": 4,
 "nbformat_minor": 2
}
